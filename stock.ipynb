{
 "cells": [
  {
   "cell_type": "code",
   "execution_count": 1,
   "metadata": {},
   "outputs": [
    {
     "name": "stdout",
     "output_type": "stream",
     "text": [
      "Collecting yfinanceNote: you may need to restart the kernel to use updated packages.\n",
      "\n",
      "  Downloading yfinance-0.1.74-py2.py3-none-any.whl (27 kB)\n",
      "Collecting multitasking>=0.0.7\n",
      "  Downloading multitasking-0.0.11-py3-none-any.whl (8.5 kB)\n",
      "Requirement already satisfied: requests>=2.26 in c:\\users\\pratheekc\\appdata\\local\\programs\\python\\python310\\lib\\site-packages (from yfinance) (2.28.0)\n",
      "Requirement already satisfied: pandas>=0.24.0 in c:\\users\\pratheekc\\appdata\\local\\programs\\python\\python310\\lib\\site-packages (from yfinance) (1.4.2)\n",
      "Collecting lxml>=4.5.1\n",
      "  Downloading lxml-4.9.1-cp310-cp310-win_amd64.whl (3.6 MB)\n",
      "     ---------------------------------------- 3.6/3.6 MB 1.2 MB/s eta 0:00:00\n",
      "Requirement already satisfied: numpy>=1.15 in c:\\users\\pratheekc\\appdata\\local\\programs\\python\\python310\\lib\\site-packages (from yfinance) (1.23.0)\n",
      "Requirement already satisfied: pytz>=2020.1 in c:\\users\\pratheekc\\appdata\\local\\programs\\python\\python310\\lib\\site-packages (from pandas>=0.24.0->yfinance) (2022.1)\n",
      "Requirement already satisfied: python-dateutil>=2.8.1 in c:\\users\\pratheekc\\appdata\\local\\programs\\python\\python310\\lib\\site-packages (from pandas>=0.24.0->yfinance) (2.8.2)\n",
      "Requirement already satisfied: certifi>=2017.4.17 in c:\\users\\pratheekc\\appdata\\local\\programs\\python\\python310\\lib\\site-packages (from requests>=2.26->yfinance) (2022.6.15)\n",
      "Requirement already satisfied: charset-normalizer~=2.0.0 in c:\\users\\pratheekc\\appdata\\local\\programs\\python\\python310\\lib\\site-packages (from requests>=2.26->yfinance) (2.0.12)\n",
      "Requirement already satisfied: urllib3<1.27,>=1.21.1 in c:\\users\\pratheekc\\appdata\\local\\programs\\python\\python310\\lib\\site-packages (from requests>=2.26->yfinance) (1.26.9)\n",
      "Requirement already satisfied: idna<4,>=2.5 in c:\\users\\pratheekc\\appdata\\local\\programs\\python\\python310\\lib\\site-packages (from requests>=2.26->yfinance) (3.3)\n",
      "Requirement already satisfied: six>=1.5 in c:\\users\\pratheekc\\appdata\\local\\programs\\python\\python310\\lib\\site-packages (from python-dateutil>=2.8.1->pandas>=0.24.0->yfinance) (1.16.0)\n",
      "Installing collected packages: multitasking, lxml, yfinance\n",
      "Successfully installed lxml-4.9.1 multitasking-0.0.11 yfinance-0.1.74\n"
     ]
    },
    {
     "name": "stderr",
     "output_type": "stream",
     "text": [
      "  WARNING: The script sample.exe is installed in 'c:\\Users\\Pratheekc\\AppData\\Local\\Programs\\Python\\Python310\\Scripts' which is not on PATH.\n",
      "  Consider adding this directory to PATH or, if you prefer to suppress this warning, use --no-warn-script-location.\n",
      "WARNING: You are using pip version 22.0.4; however, version 22.2.2 is available.\n",
      "You should consider upgrading via the 'c:\\Users\\Pratheekc\\AppData\\Local\\Programs\\Python\\Python310\\python.exe -m pip install --upgrade pip' command.\n"
     ]
    }
   ],
   "source": [
    "pip install yfinance"
   ]
  },
  {
   "cell_type": "code",
   "execution_count": 2,
   "metadata": {},
   "outputs": [],
   "source": [
    "import yfinance as yf\n",
    "import pandas as pd"
   ]
  },
  {
   "cell_type": "code",
   "execution_count": 3,
   "metadata": {},
   "outputs": [],
   "source": [
    "apple = yf.Ticker('AAPL')"
   ]
  },
  {
   "cell_type": "code",
   "execution_count": 4,
   "metadata": {},
   "outputs": [
    {
     "data": {
      "text/plain": [
       "{'zip': '95014',\n",
       " 'sector': 'Technology',\n",
       " 'fullTimeEmployees': 154000,\n",
       " 'longBusinessSummary': 'Apple Inc. designs, manufactures, and markets smartphones, personal computers, tablets, wearables, and accessories worldwide. It also sells various related services. In addition, the company offers iPhone, a line of smartphones; Mac, a line of personal computers; iPad, a line of multi-purpose tablets; AirPods Max, an over-ear wireless headphone; and wearables, home, and accessories comprising AirPods, Apple TV, Apple Watch, Beats products, HomePod, and iPod touch. Further, it provides AppleCare support services; cloud services store services; and operates various platforms, including the App Store that allow customers to discover and download applications and digital content, such as books, music, video, games, and podcasts. Additionally, the company offers various services, such as Apple Arcade, a game subscription service; Apple Music, which offers users a curated listening experience with on-demand radio stations; Apple News+, a subscription news and magazine service; Apple TV+, which offers exclusive original content; Apple Card, a co-branded credit card; and Apple Pay, a cashless payment service, as well as licenses its intellectual property. The company serves consumers, and small and mid-sized businesses; and the education, enterprise, and government markets. It distributes third-party applications for its products through the App Store. The company also sells its products through its retail and online stores, and direct sales force; and third-party cellular network carriers, wholesalers, retailers, and resellers. Apple Inc. was incorporated in 1977 and is headquartered in Cupertino, California.',\n",
       " 'city': 'Cupertino',\n",
       " 'phone': '408 996 1010',\n",
       " 'state': 'CA',\n",
       " 'country': 'United States',\n",
       " 'companyOfficers': [],\n",
       " 'website': 'https://www.apple.com',\n",
       " 'maxAge': 1,\n",
       " 'address1': 'One Apple Park Way',\n",
       " 'industry': 'Consumer Electronics',\n",
       " 'ebitdaMargins': 0.3343,\n",
       " 'profitMargins': 0.25709,\n",
       " 'grossMargins': 0.43313998,\n",
       " 'operatingCashflow': 118224003072,\n",
       " 'revenueGrowth': 0.019,\n",
       " 'operatingMargins': 0.30533,\n",
       " 'ebitda': 129556996096,\n",
       " 'targetLowPrice': 136,\n",
       " 'recommendationKey': 'buy',\n",
       " 'grossProfits': 152836000000,\n",
       " 'freeCashflow': 83344621568,\n",
       " 'targetMedianPrice': 185,\n",
       " 'currentPrice': 161.38,\n",
       " 'earningsGrowth': -0.077,\n",
       " 'currentRatio': 0.865,\n",
       " 'returnOnAssets': 0.22204,\n",
       " 'numberOfAnalystOpinions': 44,\n",
       " 'targetMeanPrice': 184.01,\n",
       " 'debtToEquity': 205.984,\n",
       " 'returnOnEquity': 1.62816,\n",
       " 'targetHighPrice': 220,\n",
       " 'totalCash': 48230998016,\n",
       " 'totalDebt': 119691001856,\n",
       " 'totalRevenue': 387541991424,\n",
       " 'totalCashPerShare': 3.001,\n",
       " 'financialCurrency': 'USD',\n",
       " 'revenuePerShare': 23.732,\n",
       " 'quickRatio': 0.697,\n",
       " 'recommendationMean': 1.9,\n",
       " 'exchange': 'NMS',\n",
       " 'shortName': 'Apple Inc.',\n",
       " 'longName': 'Apple Inc.',\n",
       " 'exchangeTimezoneName': 'America/New_York',\n",
       " 'exchangeTimezoneShortName': 'EDT',\n",
       " 'isEsgPopulated': False,\n",
       " 'gmtOffSetMilliseconds': '-14400000',\n",
       " 'quoteType': 'EQUITY',\n",
       " 'symbol': 'AAPL',\n",
       " 'messageBoardId': 'finmb_24937',\n",
       " 'market': 'us_market',\n",
       " 'annualHoldingsTurnover': None,\n",
       " 'enterpriseToRevenue': 6.969,\n",
       " 'beta3Year': None,\n",
       " 'enterpriseToEbitda': 20.848,\n",
       " '52WeekChange': 0.06289935,\n",
       " 'morningStarRiskRating': None,\n",
       " 'forwardEps': 6.45,\n",
       " 'revenueQuarterlyGrowth': None,\n",
       " 'sharesOutstanding': 16070800384,\n",
       " 'fundInceptionDate': None,\n",
       " 'annualReportExpenseRatio': None,\n",
       " 'totalAssets': None,\n",
       " 'bookValue': 3.61,\n",
       " 'sharesShort': 115400891,\n",
       " 'sharesPercentSharesOut': 0.0072000003,\n",
       " 'fundFamily': None,\n",
       " 'lastFiscalYearEnd': 1632528000,\n",
       " 'heldPercentInstitutions': 0.59788,\n",
       " 'netIncomeToCommon': 99632996352,\n",
       " 'trailingEps': 6.05,\n",
       " 'lastDividendValue': 0.23,\n",
       " 'SandP52WeekChange': -0.10880053,\n",
       " 'priceToBook': 44.703606,\n",
       " 'heldPercentInsiders': 0.00068999996,\n",
       " 'nextFiscalYearEnd': 1695600000,\n",
       " 'yield': None,\n",
       " 'mostRecentQuarter': 1656115200,\n",
       " 'shortRatio': 1.69,\n",
       " 'sharesShortPreviousMonthDate': 1657843200,\n",
       " 'floatShares': 16054038418,\n",
       " 'beta': 1.230174,\n",
       " 'enterpriseValue': 2700956401664,\n",
       " 'priceHint': 2,\n",
       " 'threeYearAverageReturn': None,\n",
       " 'lastSplitDate': 1598832000,\n",
       " 'lastSplitFactor': '4:1',\n",
       " 'legalType': None,\n",
       " 'lastDividendDate': 1659657600,\n",
       " 'morningStarOverallRating': None,\n",
       " 'earningsQuarterlyGrowth': -0.106,\n",
       " 'priceToSalesTrailing12Months': 6.6921935,\n",
       " 'dateShortInterest': 1660521600,\n",
       " 'pegRatio': 2.83,\n",
       " 'ytdReturn': None,\n",
       " 'forwardPE': 25.020157,\n",
       " 'lastCapGain': None,\n",
       " 'shortPercentOfFloat': 0.0072000003,\n",
       " 'sharesShortPriorMonth': 104993162,\n",
       " 'impliedSharesOutstanding': 0,\n",
       " 'category': None,\n",
       " 'fiveYearAverageReturn': None,\n",
       " 'previousClose': 163.62,\n",
       " 'regularMarketOpen': 161.145,\n",
       " 'twoHundredDayAverage': 160.9333,\n",
       " 'trailingAnnualDividendYield': 0.005439433,\n",
       " 'payoutRatio': 0.1471,\n",
       " 'volume24Hr': None,\n",
       " 'regularMarketDayHigh': 162.9,\n",
       " 'navPrice': None,\n",
       " 'averageDailyVolume10Day': 64870550,\n",
       " 'regularMarketPreviousClose': 163.62,\n",
       " 'fiftyDayAverage': 155.068,\n",
       " 'trailingAnnualDividendRate': 0.89,\n",
       " 'open': 161.145,\n",
       " 'toCurrency': None,\n",
       " 'averageVolume10days': 64870550,\n",
       " 'expireDate': None,\n",
       " 'algorithm': None,\n",
       " 'dividendRate': 0.92,\n",
       " 'exDividendDate': 1659657600,\n",
       " 'circulatingSupply': None,\n",
       " 'startDate': None,\n",
       " 'regularMarketDayLow': 159.82,\n",
       " 'currency': 'USD',\n",
       " 'trailingPE': 26.67438,\n",
       " 'regularMarketVolume': 69199385,\n",
       " 'lastMarket': None,\n",
       " 'maxSupply': None,\n",
       " 'openInterest': None,\n",
       " 'marketCap': 2593505935360,\n",
       " 'volumeAllCurrencies': None,\n",
       " 'strikePrice': None,\n",
       " 'averageVolume': 73709304,\n",
       " 'dayLow': 159.82,\n",
       " 'ask': 0,\n",
       " 'askSize': 800,\n",
       " 'volume': 69199385,\n",
       " 'fiftyTwoWeekHigh': 182.94,\n",
       " 'fromCurrency': None,\n",
       " 'fiveYearAvgDividendYield': 1.05,\n",
       " 'fiftyTwoWeekLow': 129.04,\n",
       " 'bid': 0,\n",
       " 'tradeable': False,\n",
       " 'dividendYield': 0.0056,\n",
       " 'bidSize': 1200,\n",
       " 'dayHigh': 162.9,\n",
       " 'coinMarketCapLink': None,\n",
       " 'regularMarketPrice': 161.38,\n",
       " 'preMarketPrice': None,\n",
       " 'logo_url': 'https://logo.clearbit.com/apple.com',\n",
       " 'trailingPegRatio': 2.926}"
      ]
     },
     "execution_count": 4,
     "metadata": {},
     "output_type": "execute_result"
    }
   ],
   "source": [
    "apple_info = apple.info\n",
    "apple_info"
   ]
  },
  {
   "cell_type": "code",
   "execution_count": 5,
   "metadata": {},
   "outputs": [
    {
     "data": {
      "text/plain": [
       "'United States'"
      ]
     },
     "execution_count": 5,
     "metadata": {},
     "output_type": "execute_result"
    }
   ],
   "source": [
    "apple_info['country']"
   ]
  },
  {
   "cell_type": "code",
   "execution_count": 13,
   "metadata": {},
   "outputs": [],
   "source": [
    "apple_share_price_data= apple.history(period=\"max\")"
   ]
  },
  {
   "cell_type": "code",
   "execution_count": 14,
   "metadata": {},
   "outputs": [
    {
     "data": {
      "text/html": [
       "<div>\n",
       "<style scoped>\n",
       "    .dataframe tbody tr th:only-of-type {\n",
       "        vertical-align: middle;\n",
       "    }\n",
       "\n",
       "    .dataframe tbody tr th {\n",
       "        vertical-align: top;\n",
       "    }\n",
       "\n",
       "    .dataframe thead th {\n",
       "        text-align: right;\n",
       "    }\n",
       "</style>\n",
       "<table border=\"1\" class=\"dataframe\">\n",
       "  <thead>\n",
       "    <tr style=\"text-align: right;\">\n",
       "      <th></th>\n",
       "      <th>Open</th>\n",
       "      <th>High</th>\n",
       "      <th>Low</th>\n",
       "      <th>Close</th>\n",
       "      <th>Volume</th>\n",
       "      <th>Dividends</th>\n",
       "      <th>Stock Splits</th>\n",
       "    </tr>\n",
       "    <tr>\n",
       "      <th>Date</th>\n",
       "      <th></th>\n",
       "      <th></th>\n",
       "      <th></th>\n",
       "      <th></th>\n",
       "      <th></th>\n",
       "      <th></th>\n",
       "      <th></th>\n",
       "    </tr>\n",
       "  </thead>\n",
       "  <tbody>\n",
       "    <tr>\n",
       "      <th>1980-12-12</th>\n",
       "      <td>0.100039</td>\n",
       "      <td>0.100474</td>\n",
       "      <td>0.100039</td>\n",
       "      <td>0.100039</td>\n",
       "      <td>469033600</td>\n",
       "      <td>0.0</td>\n",
       "      <td>0.0</td>\n",
       "    </tr>\n",
       "    <tr>\n",
       "      <th>1980-12-15</th>\n",
       "      <td>0.095255</td>\n",
       "      <td>0.095255</td>\n",
       "      <td>0.094820</td>\n",
       "      <td>0.094820</td>\n",
       "      <td>175884800</td>\n",
       "      <td>0.0</td>\n",
       "      <td>0.0</td>\n",
       "    </tr>\n",
       "    <tr>\n",
       "      <th>1980-12-16</th>\n",
       "      <td>0.088296</td>\n",
       "      <td>0.088296</td>\n",
       "      <td>0.087861</td>\n",
       "      <td>0.087861</td>\n",
       "      <td>105728000</td>\n",
       "      <td>0.0</td>\n",
       "      <td>0.0</td>\n",
       "    </tr>\n",
       "    <tr>\n",
       "      <th>1980-12-17</th>\n",
       "      <td>0.090035</td>\n",
       "      <td>0.090470</td>\n",
       "      <td>0.090035</td>\n",
       "      <td>0.090035</td>\n",
       "      <td>86441600</td>\n",
       "      <td>0.0</td>\n",
       "      <td>0.0</td>\n",
       "    </tr>\n",
       "    <tr>\n",
       "      <th>1980-12-18</th>\n",
       "      <td>0.092646</td>\n",
       "      <td>0.093081</td>\n",
       "      <td>0.092646</td>\n",
       "      <td>0.092646</td>\n",
       "      <td>73449600</td>\n",
       "      <td>0.0</td>\n",
       "      <td>0.0</td>\n",
       "    </tr>\n",
       "  </tbody>\n",
       "</table>\n",
       "</div>"
      ],
      "text/plain": [
       "                Open      High       Low     Close     Volume  Dividends  \\\n",
       "Date                                                                       \n",
       "1980-12-12  0.100039  0.100474  0.100039  0.100039  469033600        0.0   \n",
       "1980-12-15  0.095255  0.095255  0.094820  0.094820  175884800        0.0   \n",
       "1980-12-16  0.088296  0.088296  0.087861  0.087861  105728000        0.0   \n",
       "1980-12-17  0.090035  0.090470  0.090035  0.090035   86441600        0.0   \n",
       "1980-12-18  0.092646  0.093081  0.092646  0.092646   73449600        0.0   \n",
       "\n",
       "            Stock Splits  \n",
       "Date                      \n",
       "1980-12-12           0.0  \n",
       "1980-12-15           0.0  \n",
       "1980-12-16           0.0  \n",
       "1980-12-17           0.0  \n",
       "1980-12-18           0.0  "
      ]
     },
     "execution_count": 14,
     "metadata": {},
     "output_type": "execute_result"
    }
   ],
   "source": [
    "apple_share_price_data.head()"
   ]
  },
  {
   "cell_type": "code",
   "execution_count": 15,
   "metadata": {},
   "outputs": [],
   "source": [
    "apple_share_price_data.reset_index(inplace=True)"
   ]
  },
  {
   "cell_type": "code",
   "execution_count": 16,
   "metadata": {},
   "outputs": [
    {
     "data": {
      "text/plain": [
       "<AxesSubplot:xlabel='Date'>"
      ]
     },
     "execution_count": 16,
     "metadata": {},
     "output_type": "execute_result"
    },
    {
     "data": {
      "image/png": "[encoded data removed]",
      "text/plain": [
       "<Figure size 432x288 with 1 Axes>"
      ]
     },
     "metadata": {
      "needs_background": "light"
     },
     "output_type": "display_data"
    }
   ],
   "source": [
    "apple_share_price_data.plot(x='Date',y='Open')"
   ]
  },
  {
   "cell_type": "code",
   "execution_count": 17,
   "metadata": {},
   "outputs": [
    {
     "data": {
      "text/plain": [
       "Date\n",
       "1987-05-11    0.000536\n",
       "1987-08-10    0.000536\n",
       "1987-11-17    0.000714\n",
       "1988-02-12    0.000714\n",
       "1988-05-16    0.000714\n",
       "                ...   \n",
       "2021-08-06    0.220000\n",
       "2021-11-05    0.220000\n",
       "2022-02-04    0.220000\n",
       "2022-05-06    0.230000\n",
       "2022-08-05    0.230000\n",
       "Name: Dividends, Length: 76, dtype: float64"
      ]
     },
     "execution_count": 17,
     "metadata": {},
     "output_type": "execute_result"
    }
   ],
   "source": [
    "apple.dividends"
   ]
  },
  {
   "cell_type": "code",
   "execution_count": 19,
   "metadata": {},
   "outputs": [
    {
     "data": {
      "text/plain": [
       "<AxesSubplot:xlabel='Date'>"
      ]
     },
     "execution_count": 19,
     "metadata": {},
     "output_type": "execute_result"
    },
    {
     "data": {
      "image/png": "[encoded data removed]",
      "text/plain": [
       "<Figure size 432x288 with 1 Axes>"
      ]
     },
     "metadata": {
      "needs_background": "light"
     },
     "output_type": "display_data"
    }
   ],
   "source": [
    "apple.dividends.plot()"
   ]
  },
  {
   "cell_type": "markdown",
   "metadata": {},
   "source": [
    "<h3>AMD</h3>"
   ]
  },
  {
   "cell_type": "code",
   "execution_count": 22,
   "metadata": {},
   "outputs": [],
   "source": [
    "amd = yf.Ticker('AMD')"
   ]
  },
  {
   "cell_type": "code",
   "execution_count": 24,
   "metadata": {},
   "outputs": [
    {
     "data": {
      "text/plain": [
       "{'zip': '95054',\n",
       " 'sector': 'Technology',\n",
       " 'fullTimeEmployees': 15500,\n",
       " 'longBusinessSummary': 'Advanced Micro Devices, Inc. operates as a semiconductor company worldwide. The company operates in two segments, Computing and Graphics; and Enterprise, Embedded and Semi-Custom. Its products include x86 microprocessors as an accelerated processing unit, chipsets, discrete and integrated graphics processing units (GPUs), data center and professional GPUs, and development services; and server and embedded processors, and semi-custom System-on-Chip (SoC) products, development services, and technology for game consoles. The company provides processors for desktop and notebook personal computers under the AMD Ryzen, AMD Ryzen PRO, Ryzen Threadripper, Ryzen Threadripper PRO, AMD Athlon, AMD Athlon PRO, AMD FX, AMD A-Series, and AMD PRO A-Series processors brands; discrete GPUs for desktop and notebook PCs under the AMD Radeon graphics, AMD Embedded Radeon graphics brands; and professional graphics products under the AMD Radeon Pro and AMD FirePro graphics brands. It also offers Radeon Instinct, Radeon PRO V-series, and AMD Instinct accelerators for servers; chipsets under the AMD trademark; microprocessors for servers under the AMD EPYC; embedded processor solutions under the AMD Athlon, AMD Geode, AMD Ryzen, AMD EPYC, AMD R-Series, and G-Series processors brands; and customer-specific solutions based on AMD CPU, GPU, and multi-media technologies, as well as semi-custom SoC products. It serves original equipment manufacturers, public cloud service providers, original design manufacturers, system integrators, independent distributors, online retailers, and add-in-board manufacturers through its direct sales force, independent distributors, and sales representatives. The company was incorporated in 1969 and is headquartered in Santa Clara, California.',\n",
       " 'city': 'Santa Clara',\n",
       " 'phone': '408 749 4000',\n",
       " 'state': 'CA',\n",
       " 'country': 'United States',\n",
       " 'companyOfficers': [],\n",
       " 'website': 'https://www.amd.com',\n",
       " 'maxAge': 1,\n",
       " 'address1': '2485 Augustine Drive',\n",
       " 'industry': 'Semiconductors',\n",
       " 'ebitdaMargins': 0.26122,\n",
       " 'profitMargins': 0.14507,\n",
       " 'grossMargins': 0.50755,\n",
       " 'operatingCashflow': 3704000000,\n",
       " 'revenueGrowth': 0.701,\n",
       " 'operatingMargins': 0.16834,\n",
       " 'ebitda': 5635999744,\n",
       " 'targetLowPrice': 85,\n",
       " 'recommendationKey': 'buy',\n",
       " 'grossProfits': 7929000000,\n",
       " 'freeCashflow': 3622874880,\n",
       " 'targetMedianPrice': 120,\n",
       " 'currentPrice': 88.49,\n",
       " 'earningsGrowth': -0.534,\n",
       " 'currentRatio': 2.437,\n",
       " 'returnOnAssets': 0.05806,\n",
       " 'numberOfAnalystOpinions': 38,\n",
       " 'targetMeanPrice': 124.16,\n",
       " 'debtToEquity': 5.798,\n",
       " 'returnOnEquity': 0.10059,\n",
       " 'targetHighPrice': 200,\n",
       " 'totalCash': 5992000000,\n",
       " 'totalDebt': 3199000064,\n",
       " 'totalRevenue': 21575999488,\n",
       " 'totalCashPerShare': 3.712,\n",
       " 'financialCurrency': 'USD',\n",
       " 'revenuePerShare': 15.876,\n",
       " 'quickRatio': 1.819,\n",
       " 'recommendationMean': 2,\n",
       " 'exchange': 'NMS',\n",
       " 'shortName': 'Advanced Micro Devices, Inc.',\n",
       " 'longName': 'Advanced Micro Devices, Inc.',\n",
       " 'exchangeTimezoneName': 'America/New_York',\n",
       " 'exchangeTimezoneShortName': 'EDT',\n",
       " 'isEsgPopulated': False,\n",
       " 'gmtOffSetMilliseconds': '-14400000',\n",
       " 'quoteType': 'EQUITY',\n",
       " 'symbol': 'AMD',\n",
       " 'messageBoardId': 'finmb_168864',\n",
       " 'market': 'us_market',\n",
       " 'annualHoldingsTurnover': None,\n",
       " 'enterpriseToRevenue': 6.491,\n",
       " 'beta3Year': None,\n",
       " 'enterpriseToEbitda': 24.851,\n",
       " '52WeekChange': -0.20077676,\n",
       " 'morningStarRiskRating': None,\n",
       " 'forwardEps': 4.89,\n",
       " 'revenueQuarterlyGrowth': None,\n",
       " 'sharesOutstanding': 1614320000,\n",
       " 'fundInceptionDate': None,\n",
       " 'annualReportExpenseRatio': None,\n",
       " 'totalAssets': None,\n",
       " 'bookValue': 34.224,\n",
       " 'sharesShort': 35627850,\n",
       " 'sharesPercentSharesOut': 0.0221,\n",
       " 'fundFamily': None,\n",
       " 'lastFiscalYearEnd': 1640390400,\n",
       " 'heldPercentInstitutions': 0.68288004,\n",
       " 'netIncomeToCommon': 3129999872,\n",
       " 'trailingEps': 2.28,\n",
       " 'lastDividendValue': None,\n",
       " 'SandP52WeekChange': -0.10880053,\n",
       " 'priceToBook': 2.5856125,\n",
       " 'heldPercentInsiders': 0.0033500001,\n",
       " 'nextFiscalYearEnd': 1703462400,\n",
       " 'yield': None,\n",
       " 'mostRecentQuarter': 1656115200,\n",
       " 'shortRatio': 0.41,\n",
       " 'sharesShortPreviousMonthDate': 1657843200,\n",
       " 'floatShares': 1605361419,\n",
       " 'beta': 1.956486,\n",
       " 'enterpriseValue': 140058263552,\n",
       " 'priceHint': 2,\n",
       " 'threeYearAverageReturn': None,\n",
       " 'lastSplitDate': 966902400,\n",
       " 'lastSplitFactor': '2:1',\n",
       " 'legalType': None,\n",
       " 'lastDividendDate': None,\n",
       " 'morningStarOverallRating': None,\n",
       " 'earningsQuarterlyGrowth': -0.37,\n",
       " 'priceToSalesTrailing12Months': 6.620837,\n",
       " 'dateShortInterest': 1660521600,\n",
       " 'pegRatio': 0.78,\n",
       " 'ytdReturn': None,\n",
       " 'forwardPE': 18.096115,\n",
       " 'lastCapGain': None,\n",
       " 'shortPercentOfFloat': 0.0222,\n",
       " 'sharesShortPriorMonth': 34942372,\n",
       " 'impliedSharesOutstanding': 0,\n",
       " 'category': None,\n",
       " 'fiveYearAverageReturn': None,\n",
       " 'previousClose': 91.18,\n",
       " 'regularMarketOpen': 90.05,\n",
       " 'twoHundredDayAverage': 110.2732,\n",
       " 'trailingAnnualDividendYield': 0,\n",
       " 'payoutRatio': 0,\n",
       " 'volume24Hr': None,\n",
       " 'regularMarketDayHigh': 91.1899,\n",
       " 'navPrice': None,\n",
       " 'averageDailyVolume10Day': 62605090,\n",
       " 'regularMarketPreviousClose': 91.18,\n",
       " 'fiftyDayAverage': 88.8576,\n",
       " 'trailingAnnualDividendRate': 0,\n",
       " 'open': 90.05,\n",
       " 'toCurrency': None,\n",
       " 'averageVolume10days': 62605090,\n",
       " 'expireDate': None,\n",
       " 'algorithm': None,\n",
       " 'dividendRate': None,\n",
       " 'exDividendDate': 798940800,\n",
       " 'circulatingSupply': None,\n",
       " 'startDate': None,\n",
       " 'regularMarketDayLow': 88.26,\n",
       " 'currency': 'USD',\n",
       " 'trailingPE': 38.8114,\n",
       " 'regularMarketVolume': 61142538,\n",
       " 'lastMarket': None,\n",
       " 'maxSupply': None,\n",
       " 'openInterest': None,\n",
       " 'marketCap': 142851178496,\n",
       " 'volumeAllCurrencies': None,\n",
       " 'strikePrice': None,\n",
       " 'averageVolume': 86602828,\n",
       " 'dayLow': 88.26,\n",
       " 'ask': 0,\n",
       " 'askSize': 900,\n",
       " 'volume': 61142538,\n",
       " 'fiftyTwoWeekHigh': 164.46,\n",
       " 'fromCurrency': None,\n",
       " 'fiveYearAvgDividendYield': None,\n",
       " 'fiftyTwoWeekLow': 71.6,\n",
       " 'bid': 0,\n",
       " 'tradeable': False,\n",
       " 'dividendYield': None,\n",
       " 'bidSize': 1100,\n",
       " 'dayHigh': 91.1899,\n",
       " 'coinMarketCapLink': None,\n",
       " 'regularMarketPrice': 88.49,\n",
       " 'preMarketPrice': None,\n",
       " 'logo_url': 'https://logo.clearbit.com/amd.com',\n",
       " 'trailingPegRatio': 1.0034}"
      ]
     },
     "execution_count": 24,
     "metadata": {},
     "output_type": "execute_result"
    }
   ],
   "source": [
    "amd_info= amd.info\n",
    "amd_info"
   ]
  },
  {
   "cell_type": "code",
   "execution_count": 25,
   "metadata": {},
   "outputs": [
    {
     "data": {
      "text/plain": [
       "'United States'"
      ]
     },
     "execution_count": 25,
     "metadata": {},
     "output_type": "execute_result"
    }
   ],
   "source": [
    "apple_info['country']"
   ]
  },
  {
   "cell_type": "code",
   "execution_count": 26,
   "metadata": {},
   "outputs": [
    {
     "data": {
      "text/html": [
       "<div>\n",
       "<style scoped>\n",
       "    .dataframe tbody tr th:only-of-type {\n",
       "        vertical-align: middle;\n",
       "    }\n",
       "\n",
       "    .dataframe tbody tr th {\n",
       "        vertical-align: top;\n",
       "    }\n",
       "\n",
       "    .dataframe thead th {\n",
       "        text-align: right;\n",
       "    }\n",
       "</style>\n",
       "<table border=\"1\" class=\"dataframe\">\n",
       "  <thead>\n",
       "    <tr style=\"text-align: right;\">\n",
       "      <th></th>\n",
       "      <th>Open</th>\n",
       "      <th>High</th>\n",
       "      <th>Low</th>\n",
       "      <th>Close</th>\n",
       "      <th>Volume</th>\n",
       "      <th>Dividends</th>\n",
       "      <th>Stock Splits</th>\n",
       "    </tr>\n",
       "    <tr>\n",
       "      <th>Date</th>\n",
       "      <th></th>\n",
       "      <th></th>\n",
       "      <th></th>\n",
       "      <th></th>\n",
       "      <th></th>\n",
       "      <th></th>\n",
       "      <th></th>\n",
       "    </tr>\n",
       "  </thead>\n",
       "  <tbody>\n",
       "    <tr>\n",
       "      <th>2017-08-30</th>\n",
       "      <td>12.19</td>\n",
       "      <td>12.68</td>\n",
       "      <td>12.16</td>\n",
       "      <td>12.67</td>\n",
       "      <td>43933000</td>\n",
       "      <td>0</td>\n",
       "      <td>0</td>\n",
       "    </tr>\n",
       "    <tr>\n",
       "      <th>2017-08-31</th>\n",
       "      <td>12.82</td>\n",
       "      <td>13.16</td>\n",
       "      <td>12.79</td>\n",
       "      <td>13.00</td>\n",
       "      <td>51822100</td>\n",
       "      <td>0</td>\n",
       "      <td>0</td>\n",
       "    </tr>\n",
       "    <tr>\n",
       "      <th>2017-09-01</th>\n",
       "      <td>13.12</td>\n",
       "      <td>13.49</td>\n",
       "      <td>13.04</td>\n",
       "      <td>13.19</td>\n",
       "      <td>53158600</td>\n",
       "      <td>0</td>\n",
       "      <td>0</td>\n",
       "    </tr>\n",
       "    <tr>\n",
       "      <th>2017-09-05</th>\n",
       "      <td>12.88</td>\n",
       "      <td>13.18</td>\n",
       "      <td>12.65</td>\n",
       "      <td>12.92</td>\n",
       "      <td>51445500</td>\n",
       "      <td>0</td>\n",
       "      <td>0</td>\n",
       "    </tr>\n",
       "    <tr>\n",
       "      <th>2017-09-06</th>\n",
       "      <td>13.02</td>\n",
       "      <td>13.08</td>\n",
       "      <td>12.75</td>\n",
       "      <td>12.86</td>\n",
       "      <td>34182400</td>\n",
       "      <td>0</td>\n",
       "      <td>0</td>\n",
       "    </tr>\n",
       "  </tbody>\n",
       "</table>\n",
       "</div>"
      ],
      "text/plain": [
       "             Open   High    Low  Close    Volume  Dividends  Stock Splits\n",
       "Date                                                                     \n",
       "2017-08-30  12.19  12.68  12.16  12.67  43933000          0             0\n",
       "2017-08-31  12.82  13.16  12.79  13.00  51822100          0             0\n",
       "2017-09-01  13.12  13.49  13.04  13.19  53158600          0             0\n",
       "2017-09-05  12.88  13.18  12.65  12.92  51445500          0             0\n",
       "2017-09-06  13.02  13.08  12.75  12.86  34182400          0             0"
      ]
     },
     "execution_count": 26,
     "metadata": {},
     "output_type": "execute_result"
    }
   ],
   "source": [
    "amd_share_price_data = amd.history(period=\"5y\")\n",
    "amd_share_price_data.head()"
   ]
  },
  {
   "cell_type": "code",
   "execution_count": 27,
   "metadata": {},
   "outputs": [
    {
     "data": {
      "text/plain": [
       "<AxesSubplot:xlabel='Date'>"
      ]
     },
     "execution_count": 27,
     "metadata": {},
     "output_type": "execute_result"
    },
    {
     "data": {
      "image/png": "[encoded data removed]",
      "text/plain": [
       "<Figure size 432x288 with 1 Axes>"
      ]
     },
     "metadata": {
      "needs_background": "light"
     },
     "output_type": "display_data"
    }
   ],
   "source": [
    "amd_share_price_data.reset_index(inplace=True)\n",
    "amd_share_price_data.plot(x='Date',y='Open')"
   ]
  },
  {
   "cell_type": "code",
   "execution_count": 30,
   "metadata": {},
   "outputs": [
    {
     "data": {
      "text/plain": [
       "Series([], Name: Dividends, dtype: int64)"
      ]
     },
     "execution_count": 30,
     "metadata": {},
     "output_type": "execute_result"
    }
   ],
   "source": [
    "amd.dividends"
   ]
  },
  {
   "cell_type": "code",
   "execution_count": 31,
   "metadata": {},
   "outputs": [
    {
     "data": {
      "text/plain": [
       "<AxesSubplot:xlabel='Date'>"
      ]
     },
     "execution_count": 31,
     "metadata": {},
     "output_type": "execute_result"
    },
    {
     "data": {
      "image/png": "[encoded data removed]",
      "text/plain": [
       "<Figure size 432x288 with 1 Axes>"
      ]
     },
     "metadata": {
      "needs_background": "light"
     },
     "output_type": "display_data"
    }
   ],
   "source": [
    "amd.dividends.plot()"
   ]
  },
  {
   "cell_type": "code",
   "execution_count": 35,
   "metadata": {},
   "outputs": [
    {
     "data": {
      "text/plain": [
       "'Technology'"
      ]
     },
     "execution_count": 35,
     "metadata": {},
     "output_type": "execute_result"
    }
   ],
   "source": [
    "amd_info['sector']"
   ]
  },
  {
   "cell_type": "code",
   "execution_count": 39,
   "metadata": {},
   "outputs": [
    {
     "data": {
      "text/html": [
       "<div>\n",
       "<style scoped>\n",
       "    .dataframe tbody tr th:only-of-type {\n",
       "        vertical-align: middle;\n",
       "    }\n",
       "\n",
       "    .dataframe tbody tr th {\n",
       "        vertical-align: top;\n",
       "    }\n",
       "\n",
       "    .dataframe thead th {\n",
       "        text-align: right;\n",
       "    }\n",
       "</style>\n",
       "<table border=\"1\" class=\"dataframe\">\n",
       "  <thead>\n",
       "    <tr style=\"text-align: right;\">\n",
       "      <th></th>\n",
       "      <th>Open</th>\n",
       "      <th>High</th>\n",
       "      <th>Low</th>\n",
       "      <th>Close</th>\n",
       "      <th>Volume</th>\n",
       "      <th>Dividends</th>\n",
       "      <th>Stock Splits</th>\n",
       "    </tr>\n",
       "    <tr>\n",
       "      <th>Date</th>\n",
       "      <th></th>\n",
       "      <th></th>\n",
       "      <th></th>\n",
       "      <th></th>\n",
       "      <th></th>\n",
       "      <th></th>\n",
       "      <th></th>\n",
       "    </tr>\n",
       "  </thead>\n",
       "  <tbody>\n",
       "    <tr>\n",
       "      <th>1980-03-17</th>\n",
       "      <td>0.000000</td>\n",
       "      <td>3.302083</td>\n",
       "      <td>3.125000</td>\n",
       "      <td>3.145833</td>\n",
       "      <td>219600</td>\n",
       "      <td>0</td>\n",
       "      <td>0.0</td>\n",
       "    </tr>\n",
       "    <tr>\n",
       "      <th>1980-03-18</th>\n",
       "      <td>0.000000</td>\n",
       "      <td>3.125000</td>\n",
       "      <td>2.937500</td>\n",
       "      <td>3.031250</td>\n",
       "      <td>727200</td>\n",
       "      <td>0</td>\n",
       "      <td>0.0</td>\n",
       "    </tr>\n",
       "    <tr>\n",
       "      <th>1980-03-19</th>\n",
       "      <td>0.000000</td>\n",
       "      <td>3.083333</td>\n",
       "      <td>3.020833</td>\n",
       "      <td>3.041667</td>\n",
       "      <td>295200</td>\n",
       "      <td>0</td>\n",
       "      <td>0.0</td>\n",
       "    </tr>\n",
       "    <tr>\n",
       "      <th>1980-03-20</th>\n",
       "      <td>0.000000</td>\n",
       "      <td>3.062500</td>\n",
       "      <td>3.010417</td>\n",
       "      <td>3.010417</td>\n",
       "      <td>159600</td>\n",
       "      <td>0</td>\n",
       "      <td>0.0</td>\n",
       "    </tr>\n",
       "    <tr>\n",
       "      <th>1980-03-21</th>\n",
       "      <td>0.000000</td>\n",
       "      <td>3.020833</td>\n",
       "      <td>2.906250</td>\n",
       "      <td>2.916667</td>\n",
       "      <td>130800</td>\n",
       "      <td>0</td>\n",
       "      <td>0.0</td>\n",
       "    </tr>\n",
       "    <tr>\n",
       "      <th>...</th>\n",
       "      <td>...</td>\n",
       "      <td>...</td>\n",
       "      <td>...</td>\n",
       "      <td>...</td>\n",
       "      <td>...</td>\n",
       "      <td>...</td>\n",
       "      <td>...</td>\n",
       "    </tr>\n",
       "    <tr>\n",
       "      <th>2022-08-23</th>\n",
       "      <td>92.389999</td>\n",
       "      <td>94.440002</td>\n",
       "      <td>92.110001</td>\n",
       "      <td>92.489998</td>\n",
       "      <td>52927000</td>\n",
       "      <td>0</td>\n",
       "      <td>0.0</td>\n",
       "    </tr>\n",
       "    <tr>\n",
       "      <th>2022-08-24</th>\n",
       "      <td>92.209999</td>\n",
       "      <td>93.379997</td>\n",
       "      <td>90.900002</td>\n",
       "      <td>92.730003</td>\n",
       "      <td>56520400</td>\n",
       "      <td>0</td>\n",
       "      <td>0.0</td>\n",
       "    </tr>\n",
       "    <tr>\n",
       "      <th>2022-08-25</th>\n",
       "      <td>93.139999</td>\n",
       "      <td>97.570000</td>\n",
       "      <td>93.139999</td>\n",
       "      <td>97.180000</td>\n",
       "      <td>61016200</td>\n",
       "      <td>0</td>\n",
       "      <td>0.0</td>\n",
       "    </tr>\n",
       "    <tr>\n",
       "      <th>2022-08-26</th>\n",
       "      <td>96.290001</td>\n",
       "      <td>97.599998</td>\n",
       "      <td>91.120003</td>\n",
       "      <td>91.180000</td>\n",
       "      <td>65497200</td>\n",
       "      <td>0</td>\n",
       "      <td>0.0</td>\n",
       "    </tr>\n",
       "    <tr>\n",
       "      <th>2022-08-29</th>\n",
       "      <td>90.050003</td>\n",
       "      <td>91.190002</td>\n",
       "      <td>88.260002</td>\n",
       "      <td>88.489998</td>\n",
       "      <td>61069500</td>\n",
       "      <td>0</td>\n",
       "      <td>0.0</td>\n",
       "    </tr>\n",
       "  </tbody>\n",
       "</table>\n",
       "<p>10705 rows × 7 columns</p>\n",
       "</div>"
      ],
      "text/plain": [
       "                 Open       High        Low      Close    Volume  Dividends  \\\n",
       "Date                                                                          \n",
       "1980-03-17   0.000000   3.302083   3.125000   3.145833    219600          0   \n",
       "1980-03-18   0.000000   3.125000   2.937500   3.031250    727200          0   \n",
       "1980-03-19   0.000000   3.083333   3.020833   3.041667    295200          0   \n",
       "1980-03-20   0.000000   3.062500   3.010417   3.010417    159600          0   \n",
       "1980-03-21   0.000000   3.020833   2.906250   2.916667    130800          0   \n",
       "...               ...        ...        ...        ...       ...        ...   \n",
       "2022-08-23  92.389999  94.440002  92.110001  92.489998  52927000          0   \n",
       "2022-08-24  92.209999  93.379997  90.900002  92.730003  56520400          0   \n",
       "2022-08-25  93.139999  97.570000  93.139999  97.180000  61016200          0   \n",
       "2022-08-26  96.290001  97.599998  91.120003  91.180000  65497200          0   \n",
       "2022-08-29  90.050003  91.190002  88.260002  88.489998  61069500          0   \n",
       "\n",
       "            Stock Splits  \n",
       "Date                      \n",
       "1980-03-17           0.0  \n",
       "1980-03-18           0.0  \n",
       "1980-03-19           0.0  \n",
       "1980-03-20           0.0  \n",
       "1980-03-21           0.0  \n",
       "...                  ...  \n",
       "2022-08-23           0.0  \n",
       "2022-08-24           0.0  \n",
       "2022-08-25           0.0  \n",
       "2022-08-26           0.0  \n",
       "2022-08-29           0.0  \n",
       "\n",
       "[10705 rows x 7 columns]"
      ]
     },
     "execution_count": 39,
     "metadata": {},
     "output_type": "execute_result"
    }
   ],
   "source": [
    "amd.history(period=\"max\")"
   ]
  },
  {
   "cell_type": "code",
   "execution_count": 38,
   "metadata": {},
   "outputs": [
    {
     "ename": "AttributeError",
     "evalue": "'Ticker' object has no attribute 'period'",
     "output_type": "error",
     "traceback": [
      "\u001b[1;31m---------------------------------------------------------------------------\u001b[0m",
      "\u001b[1;31mAttributeError\u001b[0m                            Traceback (most recent call last)",
      "\u001b[1;32mc:\\Users\\Pratheekc\\python\\stock.ipynb Cell 22\u001b[0m in \u001b[0;36m<cell line: 1>\u001b[1;34m()\u001b[0m\n\u001b[1;32m----> <a href='vscode-notebook-cell:/c%3A/Users/Pratheekc/python/stock.ipynb#X32sZmlsZQ%3D%3D?line=0'>1</a>\u001b[0m amd\u001b[39m.\u001b[39;49mperiod()\n",
      "\u001b[1;31mAttributeError\u001b[0m: 'Ticker' object has no attribute 'period'"
     ]
    }
   ],
   "source": []
  },
  {
   "cell_type": "code",
   "execution_count": 42,
   "metadata": {},
   "outputs": [
    {
     "name": "stdout",
     "output_type": "stream",
     "text": [
      "Requirement already satisfied: mamba in c:\\users\\pratheekc\\appdata\\local\\programs\\python\\python310\\lib\\site-packages (0.11.2)\n",
      "Collecting bs4\n",
      "  Downloading bs4-0.0.1.tar.gz (1.1 kB)\n",
      "  Preparing metadata (setup.py): started\n",
      "  Preparing metadata (setup.py): finished with status 'done'\n",
      "Requirement already satisfied: clint in c:\\users\\pratheekc\\appdata\\local\\programs\\python\\python310\\lib\\site-packages (from mamba) (0.5.1)\n",
      "Requirement already satisfied: coverage in c:\\users\\pratheekc\\appdata\\local\\programs\\python\\python310\\lib\\site-packages (from mamba) (6.4.4)\n",
      "Collecting beautifulsoup4\n",
      "  Downloading beautifulsoup4-4.11.1-py3-none-any.whl (128 kB)\n",
      "     ------------------------------------ 128.2/128.2 KB 503.9 kB/s eta 0:00:00\n",
      "Collecting soupsieve>1.2\n",
      "  Downloading soupsieve-2.3.2.post1-py3-none-any.whl (37 kB)\n",
      "Requirement already satisfied: args in c:\\users\\pratheekc\\appdata\\local\\programs\\python\\python310\\lib\\site-packages (from clint->mamba) (0.1.0)\n",
      "Using legacy 'setup.py install' for bs4, since package 'wheel' is not installed.\n",
      "Installing collected packages: soupsieve, beautifulsoup4, bs4\n",
      "  Running setup.py install for bs4: started\n",
      "  Running setup.py install for bs4: finished with status 'done'\n",
      "Successfully installed beautifulsoup4-4.11.1 bs4-0.0.1 soupsieve-2.3.2.post1\n",
      "Note: you may need to restart the kernel to use updated packages.\n"
     ]
    },
    {
     "name": "stderr",
     "output_type": "stream",
     "text": [
      "WARNING: You are using pip version 22.0.4; however, version 22.2.2 is available.\n",
      "You should consider upgrading via the 'c:\\Users\\Pratheekc\\AppData\\Local\\Programs\\Python\\Python310\\python.exe -m pip install --upgrade pip' command.\n"
     ]
    }
   ],
   "source": [
    "pip install mamba bs4"
   ]
  },
  {
   "cell_type": "code",
   "execution_count": 43,
   "metadata": {},
   "outputs": [
    {
     "name": "stdout",
     "output_type": "stream",
     "text": [
      "Requirement already satisfied: mamba in c:\\users\\pratheekc\\appdata\\local\\programs\\python\\python310\\lib\\site-packages (0.11.2)\n",
      "Collecting html5lib\n",
      "  Downloading html5lib-1.1-py2.py3-none-any.whl (112 kB)\n",
      "     ------------------------------------ 112.2/112.2 KB 649.3 kB/s eta 0:00:00\n",
      "Requirement already satisfied: clint in c:\\users\\pratheekc\\appdata\\local\\programs\\python\\python310\\lib\\site-packages (from mamba) (0.5.1)\n",
      "Requirement already satisfied: coverage in c:\\users\\pratheekc\\appdata\\local\\programs\\python\\python310\\lib\\site-packages (from mamba) (6.4.4)\n",
      "Collecting webencodings\n",
      "  Downloading webencodings-0.5.1-py2.py3-none-any.whl (11 kB)\n",
      "Requirement already satisfied: six>=1.9 in c:\\users\\pratheekc\\appdata\\local\\programs\\python\\python310\\lib\\site-packages (from html5lib) (1.16.0)\n",
      "Requirement already satisfied: args in c:\\users\\pratheekc\\appdata\\local\\programs\\python\\python310\\lib\\site-packages (from clint->mamba) (0.1.0)\n",
      "Installing collected packages: webencodings, html5lib\n",
      "Successfully installed html5lib-1.1 webencodings-0.5.1\n",
      "Note: you may need to restart the kernel to use updated packages.\n"
     ]
    },
    {
     "name": "stderr",
     "output_type": "stream",
     "text": [
      "WARNING: You are using pip version 22.0.4; however, version 22.2.2 is available.\n",
      "You should consider upgrading via the 'c:\\Users\\Pratheekc\\AppData\\Local\\Programs\\Python\\Python310\\python.exe -m pip install --upgrade pip' command.\n"
     ]
    }
   ],
   "source": [
    "pip install mamba html5lib"
   ]
  },
  {
   "cell_type": "code",
   "execution_count": 44,
   "metadata": {},
   "outputs": [
    {
     "name": "stdout",
     "output_type": "stream",
     "text": [
      "Requirement already satisfied: lxml in c:\\users\\pratheekc\\appdata\\local\\programs\\python\\python310\\lib\\site-packages (4.9.1)\n",
      "Note: you may need to restart the kernel to use updated packages.\n"
     ]
    },
    {
     "name": "stderr",
     "output_type": "stream",
     "text": [
      "WARNING: You are using pip version 22.0.4; however, version 22.2.2 is available.\n",
      "You should consider upgrading via the 'c:\\Users\\Pratheekc\\AppData\\Local\\Programs\\Python\\Python310\\python.exe -m pip install --upgrade pip' command.\n"
     ]
    }
   ],
   "source": [
    "pip install lxml"
   ]
  },
  {
   "cell_type": "code",
   "execution_count": 4,
   "metadata": {},
   "outputs": [
    {
     "name": "stderr",
     "output_type": "stream",
     "text": [
      "C:\\Users\\Pratheekc\\AppData\\Local\\Temp\\ipykernel_16604\\56539248.py:1: DeprecationWarning: the imp module is deprecated in favour of importlib and slated for removal in Python 3.12; see the module's documentation for alternative uses\n",
      "  import imp\n"
     ]
    }
   ],
   "source": [
    "import imp\n",
    "import pandas as pd\n",
    "import requests\n",
    "from bs4 import BeautifulSoup"
   ]
  },
  {
   "cell_type": "code",
   "execution_count": 7,
   "metadata": {},
   "outputs": [],
   "source": [
    "url = \"https://cf-courses-data.s3.us.cloud-object-storage.appdomain.cloud/IBMDeveloperSkillsNetwork-PY0220EN-SkillsNetwork/labs/project/netflix_data_webpage.html\"\n",
    "data = requests.get(url).text"
   ]
  },
  {
   "cell_type": "code",
   "execution_count": 8,
   "metadata": {},
   "outputs": [],
   "source": [
    "soup = BeautifulSoup(data,'html5lib')"
   ]
  },
  {
   "cell_type": "code",
   "execution_count": 9,
   "metadata": {},
   "outputs": [
    {
     "name": "stderr",
     "output_type": "stream",
     "text": [
      "C:\\Users\\Pratheekc\\AppData\\Local\\Temp\\ipykernel_16604\\3577119806.py:11: FutureWarning: The frame.append method is deprecated and will be removed from pandas in a future version. Use pandas.concat instead.\n",
      "  netflix_data = netflix_data.append({'Date':date,'Open':open,'High':high,'Low':low,'Close':close,'Adj_close':adj_close,'Volume':volume}, ignore_index=True)\n",
      "C:\\Users\\Pratheekc\\AppData\\Local\\Temp\\ipykernel_16604\\3577119806.py:11: FutureWarning: The frame.append method is deprecated and will be removed from pandas in a future version. Use pandas.concat instead.\n",
      "  netflix_data = netflix_data.append({'Date':date,'Open':open,'High':high,'Low':low,'Close':close,'Adj_close':adj_close,'Volume':volume}, ignore_index=True)\n",
      "C:\\Users\\Pratheekc\\AppData\\Local\\Temp\\ipykernel_16604\\3577119806.py:11: FutureWarning: The frame.append method is deprecated and will be removed from pandas in a future version. Use pandas.concat instead.\n",
      "  netflix_data = netflix_data.append({'Date':date,'Open':open,'High':high,'Low':low,'Close':close,'Adj_close':adj_close,'Volume':volume}, ignore_index=True)\n",
      "C:\\Users\\Pratheekc\\AppData\\Local\\Temp\\ipykernel_16604\\3577119806.py:11: FutureWarning: The frame.append method is deprecated and will be removed from pandas in a future version. Use pandas.concat instead.\n",
      "  netflix_data = netflix_data.append({'Date':date,'Open':open,'High':high,'Low':low,'Close':close,'Adj_close':adj_close,'Volume':volume}, ignore_index=True)\n",
      "C:\\Users\\Pratheekc\\AppData\\Local\\Temp\\ipykernel_16604\\3577119806.py:11: FutureWarning: The frame.append method is deprecated and will be removed from pandas in a future version. Use pandas.concat instead.\n",
      "  netflix_data = netflix_data.append({'Date':date,'Open':open,'High':high,'Low':low,'Close':close,'Adj_close':adj_close,'Volume':volume}, ignore_index=True)\n",
      "C:\\Users\\Pratheekc\\AppData\\Local\\Temp\\ipykernel_16604\\3577119806.py:11: FutureWarning: The frame.append method is deprecated and will be removed from pandas in a future version. Use pandas.concat instead.\n",
      "  netflix_data = netflix_data.append({'Date':date,'Open':open,'High':high,'Low':low,'Close':close,'Adj_close':adj_close,'Volume':volume}, ignore_index=True)\n",
      "C:\\Users\\Pratheekc\\AppData\\Local\\Temp\\ipykernel_16604\\3577119806.py:11: FutureWarning: The frame.append method is deprecated and will be removed from pandas in a future version. Use pandas.concat instead.\n",
      "  netflix_data = netflix_data.append({'Date':date,'Open':open,'High':high,'Low':low,'Close':close,'Adj_close':adj_close,'Volume':volume}, ignore_index=True)\n",
      "C:\\Users\\Pratheekc\\AppData\\Local\\Temp\\ipykernel_16604\\3577119806.py:11: FutureWarning: The frame.append method is deprecated and will be removed from pandas in a future version. Use pandas.concat instead.\n",
      "  netflix_data = netflix_data.append({'Date':date,'Open':open,'High':high,'Low':low,'Close':close,'Adj_close':adj_close,'Volume':volume}, ignore_index=True)\n",
      "C:\\Users\\Pratheekc\\AppData\\Local\\Temp\\ipykernel_16604\\3577119806.py:11: FutureWarning: The frame.append method is deprecated and will be removed from pandas in a future version. Use pandas.concat instead.\n",
      "  netflix_data = netflix_data.append({'Date':date,'Open':open,'High':high,'Low':low,'Close':close,'Adj_close':adj_close,'Volume':volume}, ignore_index=True)\n",
      "C:\\Users\\Pratheekc\\AppData\\Local\\Temp\\ipykernel_16604\\3577119806.py:11: FutureWarning: The frame.append method is deprecated and will be removed from pandas in a future version. Use pandas.concat instead.\n",
      "  netflix_data = netflix_data.append({'Date':date,'Open':open,'High':high,'Low':low,'Close':close,'Adj_close':adj_close,'Volume':volume}, ignore_index=True)\n",
      "C:\\Users\\Pratheekc\\AppData\\Local\\Temp\\ipykernel_16604\\3577119806.py:11: FutureWarning: The frame.append method is deprecated and will be removed from pandas in a future version. Use pandas.concat instead.\n",
      "  netflix_data = netflix_data.append({'Date':date,'Open':open,'High':high,'Low':low,'Close':close,'Adj_close':adj_close,'Volume':volume}, ignore_index=True)\n",
      "C:\\Users\\Pratheekc\\AppData\\Local\\Temp\\ipykernel_16604\\3577119806.py:11: FutureWarning: The frame.append method is deprecated and will be removed from pandas in a future version. Use pandas.concat instead.\n",
      "  netflix_data = netflix_data.append({'Date':date,'Open':open,'High':high,'Low':low,'Close':close,'Adj_close':adj_close,'Volume':volume}, ignore_index=True)\n",
      "C:\\Users\\Pratheekc\\AppData\\Local\\Temp\\ipykernel_16604\\3577119806.py:11: FutureWarning: The frame.append method is deprecated and will be removed from pandas in a future version. Use pandas.concat instead.\n",
      "  netflix_data = netflix_data.append({'Date':date,'Open':open,'High':high,'Low':low,'Close':close,'Adj_close':adj_close,'Volume':volume}, ignore_index=True)\n",
      "C:\\Users\\Pratheekc\\AppData\\Local\\Temp\\ipykernel_16604\\3577119806.py:11: FutureWarning: The frame.append method is deprecated and will be removed from pandas in a future version. Use pandas.concat instead.\n",
      "  netflix_data = netflix_data.append({'Date':date,'Open':open,'High':high,'Low':low,'Close':close,'Adj_close':adj_close,'Volume':volume}, ignore_index=True)\n",
      "C:\\Users\\Pratheekc\\AppData\\Local\\Temp\\ipykernel_16604\\3577119806.py:11: FutureWarning: The frame.append method is deprecated and will be removed from pandas in a future version. Use pandas.concat instead.\n",
      "  netflix_data = netflix_data.append({'Date':date,'Open':open,'High':high,'Low':low,'Close':close,'Adj_close':adj_close,'Volume':volume}, ignore_index=True)\n",
      "C:\\Users\\Pratheekc\\AppData\\Local\\Temp\\ipykernel_16604\\3577119806.py:11: FutureWarning: The frame.append method is deprecated and will be removed from pandas in a future version. Use pandas.concat instead.\n",
      "  netflix_data = netflix_data.append({'Date':date,'Open':open,'High':high,'Low':low,'Close':close,'Adj_close':adj_close,'Volume':volume}, ignore_index=True)\n",
      "C:\\Users\\Pratheekc\\AppData\\Local\\Temp\\ipykernel_16604\\3577119806.py:11: FutureWarning: The frame.append method is deprecated and will be removed from pandas in a future version. Use pandas.concat instead.\n",
      "  netflix_data = netflix_data.append({'Date':date,'Open':open,'High':high,'Low':low,'Close':close,'Adj_close':adj_close,'Volume':volume}, ignore_index=True)\n",
      "C:\\Users\\Pratheekc\\AppData\\Local\\Temp\\ipykernel_16604\\3577119806.py:11: FutureWarning: The frame.append method is deprecated and will be removed from pandas in a future version. Use pandas.concat instead.\n",
      "  netflix_data = netflix_data.append({'Date':date,'Open':open,'High':high,'Low':low,'Close':close,'Adj_close':adj_close,'Volume':volume}, ignore_index=True)\n",
      "C:\\Users\\Pratheekc\\AppData\\Local\\Temp\\ipykernel_16604\\3577119806.py:11: FutureWarning: The frame.append method is deprecated and will be removed from pandas in a future version. Use pandas.concat instead.\n",
      "  netflix_data = netflix_data.append({'Date':date,'Open':open,'High':high,'Low':low,'Close':close,'Adj_close':adj_close,'Volume':volume}, ignore_index=True)\n",
      "C:\\Users\\Pratheekc\\AppData\\Local\\Temp\\ipykernel_16604\\3577119806.py:11: FutureWarning: The frame.append method is deprecated and will be removed from pandas in a future version. Use pandas.concat instead.\n",
      "  netflix_data = netflix_data.append({'Date':date,'Open':open,'High':high,'Low':low,'Close':close,'Adj_close':adj_close,'Volume':volume}, ignore_index=True)\n",
      "C:\\Users\\Pratheekc\\AppData\\Local\\Temp\\ipykernel_16604\\3577119806.py:11: FutureWarning: The frame.append method is deprecated and will be removed from pandas in a future version. Use pandas.concat instead.\n",
      "  netflix_data = netflix_data.append({'Date':date,'Open':open,'High':high,'Low':low,'Close':close,'Adj_close':adj_close,'Volume':volume}, ignore_index=True)\n",
      "C:\\Users\\Pratheekc\\AppData\\Local\\Temp\\ipykernel_16604\\3577119806.py:11: FutureWarning: The frame.append method is deprecated and will be removed from pandas in a future version. Use pandas.concat instead.\n",
      "  netflix_data = netflix_data.append({'Date':date,'Open':open,'High':high,'Low':low,'Close':close,'Adj_close':adj_close,'Volume':volume}, ignore_index=True)\n",
      "C:\\Users\\Pratheekc\\AppData\\Local\\Temp\\ipykernel_16604\\3577119806.py:11: FutureWarning: The frame.append method is deprecated and will be removed from pandas in a future version. Use pandas.concat instead.\n",
      "  netflix_data = netflix_data.append({'Date':date,'Open':open,'High':high,'Low':low,'Close':close,'Adj_close':adj_close,'Volume':volume}, ignore_index=True)\n",
      "C:\\Users\\Pratheekc\\AppData\\Local\\Temp\\ipykernel_16604\\3577119806.py:11: FutureWarning: The frame.append method is deprecated and will be removed from pandas in a future version. Use pandas.concat instead.\n",
      "  netflix_data = netflix_data.append({'Date':date,'Open':open,'High':high,'Low':low,'Close':close,'Adj_close':adj_close,'Volume':volume}, ignore_index=True)\n",
      "C:\\Users\\Pratheekc\\AppData\\Local\\Temp\\ipykernel_16604\\3577119806.py:11: FutureWarning: The frame.append method is deprecated and will be removed from pandas in a future version. Use pandas.concat instead.\n",
      "  netflix_data = netflix_data.append({'Date':date,'Open':open,'High':high,'Low':low,'Close':close,'Adj_close':adj_close,'Volume':volume}, ignore_index=True)\n",
      "C:\\Users\\Pratheekc\\AppData\\Local\\Temp\\ipykernel_16604\\3577119806.py:11: FutureWarning: The frame.append method is deprecated and will be removed from pandas in a future version. Use pandas.concat instead.\n",
      "  netflix_data = netflix_data.append({'Date':date,'Open':open,'High':high,'Low':low,'Close':close,'Adj_close':adj_close,'Volume':volume}, ignore_index=True)\n",
      "C:\\Users\\Pratheekc\\AppData\\Local\\Temp\\ipykernel_16604\\3577119806.py:11: FutureWarning: The frame.append method is deprecated and will be removed from pandas in a future version. Use pandas.concat instead.\n",
      "  netflix_data = netflix_data.append({'Date':date,'Open':open,'High':high,'Low':low,'Close':close,'Adj_close':adj_close,'Volume':volume}, ignore_index=True)\n",
      "C:\\Users\\Pratheekc\\AppData\\Local\\Temp\\ipykernel_16604\\3577119806.py:11: FutureWarning: The frame.append method is deprecated and will be removed from pandas in a future version. Use pandas.concat instead.\n",
      "  netflix_data = netflix_data.append({'Date':date,'Open':open,'High':high,'Low':low,'Close':close,'Adj_close':adj_close,'Volume':volume}, ignore_index=True)\n",
      "C:\\Users\\Pratheekc\\AppData\\Local\\Temp\\ipykernel_16604\\3577119806.py:11: FutureWarning: The frame.append method is deprecated and will be removed from pandas in a future version. Use pandas.concat instead.\n",
      "  netflix_data = netflix_data.append({'Date':date,'Open':open,'High':high,'Low':low,'Close':close,'Adj_close':adj_close,'Volume':volume}, ignore_index=True)\n",
      "C:\\Users\\Pratheekc\\AppData\\Local\\Temp\\ipykernel_16604\\3577119806.py:11: FutureWarning: The frame.append method is deprecated and will be removed from pandas in a future version. Use pandas.concat instead.\n",
      "  netflix_data = netflix_data.append({'Date':date,'Open':open,'High':high,'Low':low,'Close':close,'Adj_close':adj_close,'Volume':volume}, ignore_index=True)\n",
      "C:\\Users\\Pratheekc\\AppData\\Local\\Temp\\ipykernel_16604\\3577119806.py:11: FutureWarning: The frame.append method is deprecated and will be removed from pandas in a future version. Use pandas.concat instead.\n",
      "  netflix_data = netflix_data.append({'Date':date,'Open':open,'High':high,'Low':low,'Close':close,'Adj_close':adj_close,'Volume':volume}, ignore_index=True)\n",
      "C:\\Users\\Pratheekc\\AppData\\Local\\Temp\\ipykernel_16604\\3577119806.py:11: FutureWarning: The frame.append method is deprecated and will be removed from pandas in a future version. Use pandas.concat instead.\n",
      "  netflix_data = netflix_data.append({'Date':date,'Open':open,'High':high,'Low':low,'Close':close,'Adj_close':adj_close,'Volume':volume}, ignore_index=True)\n",
      "C:\\Users\\Pratheekc\\AppData\\Local\\Temp\\ipykernel_16604\\3577119806.py:11: FutureWarning: The frame.append method is deprecated and will be removed from pandas in a future version. Use pandas.concat instead.\n",
      "  netflix_data = netflix_data.append({'Date':date,'Open':open,'High':high,'Low':low,'Close':close,'Adj_close':adj_close,'Volume':volume}, ignore_index=True)\n",
      "C:\\Users\\Pratheekc\\AppData\\Local\\Temp\\ipykernel_16604\\3577119806.py:11: FutureWarning: The frame.append method is deprecated and will be removed from pandas in a future version. Use pandas.concat instead.\n",
      "  netflix_data = netflix_data.append({'Date':date,'Open':open,'High':high,'Low':low,'Close':close,'Adj_close':adj_close,'Volume':volume}, ignore_index=True)\n",
      "C:\\Users\\Pratheekc\\AppData\\Local\\Temp\\ipykernel_16604\\3577119806.py:11: FutureWarning: The frame.append method is deprecated and will be removed from pandas in a future version. Use pandas.concat instead.\n",
      "  netflix_data = netflix_data.append({'Date':date,'Open':open,'High':high,'Low':low,'Close':close,'Adj_close':adj_close,'Volume':volume}, ignore_index=True)\n",
      "C:\\Users\\Pratheekc\\AppData\\Local\\Temp\\ipykernel_16604\\3577119806.py:11: FutureWarning: The frame.append method is deprecated and will be removed from pandas in a future version. Use pandas.concat instead.\n",
      "  netflix_data = netflix_data.append({'Date':date,'Open':open,'High':high,'Low':low,'Close':close,'Adj_close':adj_close,'Volume':volume}, ignore_index=True)\n",
      "C:\\Users\\Pratheekc\\AppData\\Local\\Temp\\ipykernel_16604\\3577119806.py:11: FutureWarning: The frame.append method is deprecated and will be removed from pandas in a future version. Use pandas.concat instead.\n",
      "  netflix_data = netflix_data.append({'Date':date,'Open':open,'High':high,'Low':low,'Close':close,'Adj_close':adj_close,'Volume':volume}, ignore_index=True)\n",
      "C:\\Users\\Pratheekc\\AppData\\Local\\Temp\\ipykernel_16604\\3577119806.py:11: FutureWarning: The frame.append method is deprecated and will be removed from pandas in a future version. Use pandas.concat instead.\n",
      "  netflix_data = netflix_data.append({'Date':date,'Open':open,'High':high,'Low':low,'Close':close,'Adj_close':adj_close,'Volume':volume}, ignore_index=True)\n",
      "C:\\Users\\Pratheekc\\AppData\\Local\\Temp\\ipykernel_16604\\3577119806.py:11: FutureWarning: The frame.append method is deprecated and will be removed from pandas in a future version. Use pandas.concat instead.\n",
      "  netflix_data = netflix_data.append({'Date':date,'Open':open,'High':high,'Low':low,'Close':close,'Adj_close':adj_close,'Volume':volume}, ignore_index=True)\n",
      "C:\\Users\\Pratheekc\\AppData\\Local\\Temp\\ipykernel_16604\\3577119806.py:11: FutureWarning: The frame.append method is deprecated and will be removed from pandas in a future version. Use pandas.concat instead.\n",
      "  netflix_data = netflix_data.append({'Date':date,'Open':open,'High':high,'Low':low,'Close':close,'Adj_close':adj_close,'Volume':volume}, ignore_index=True)\n",
      "C:\\Users\\Pratheekc\\AppData\\Local\\Temp\\ipykernel_16604\\3577119806.py:11: FutureWarning: The frame.append method is deprecated and will be removed from pandas in a future version. Use pandas.concat instead.\n",
      "  netflix_data = netflix_data.append({'Date':date,'Open':open,'High':high,'Low':low,'Close':close,'Adj_close':adj_close,'Volume':volume}, ignore_index=True)\n",
      "C:\\Users\\Pratheekc\\AppData\\Local\\Temp\\ipykernel_16604\\3577119806.py:11: FutureWarning: The frame.append method is deprecated and will be removed from pandas in a future version. Use pandas.concat instead.\n",
      "  netflix_data = netflix_data.append({'Date':date,'Open':open,'High':high,'Low':low,'Close':close,'Adj_close':adj_close,'Volume':volume}, ignore_index=True)\n",
      "C:\\Users\\Pratheekc\\AppData\\Local\\Temp\\ipykernel_16604\\3577119806.py:11: FutureWarning: The frame.append method is deprecated and will be removed from pandas in a future version. Use pandas.concat instead.\n",
      "  netflix_data = netflix_data.append({'Date':date,'Open':open,'High':high,'Low':low,'Close':close,'Adj_close':adj_close,'Volume':volume}, ignore_index=True)\n",
      "C:\\Users\\Pratheekc\\AppData\\Local\\Temp\\ipykernel_16604\\3577119806.py:11: FutureWarning: The frame.append method is deprecated and will be removed from pandas in a future version. Use pandas.concat instead.\n",
      "  netflix_data = netflix_data.append({'Date':date,'Open':open,'High':high,'Low':low,'Close':close,'Adj_close':adj_close,'Volume':volume}, ignore_index=True)\n",
      "C:\\Users\\Pratheekc\\AppData\\Local\\Temp\\ipykernel_16604\\3577119806.py:11: FutureWarning: The frame.append method is deprecated and will be removed from pandas in a future version. Use pandas.concat instead.\n",
      "  netflix_data = netflix_data.append({'Date':date,'Open':open,'High':high,'Low':low,'Close':close,'Adj_close':adj_close,'Volume':volume}, ignore_index=True)\n",
      "C:\\Users\\Pratheekc\\AppData\\Local\\Temp\\ipykernel_16604\\3577119806.py:11: FutureWarning: The frame.append method is deprecated and will be removed from pandas in a future version. Use pandas.concat instead.\n",
      "  netflix_data = netflix_data.append({'Date':date,'Open':open,'High':high,'Low':low,'Close':close,'Adj_close':adj_close,'Volume':volume}, ignore_index=True)\n",
      "C:\\Users\\Pratheekc\\AppData\\Local\\Temp\\ipykernel_16604\\3577119806.py:11: FutureWarning: The frame.append method is deprecated and will be removed from pandas in a future version. Use pandas.concat instead.\n",
      "  netflix_data = netflix_data.append({'Date':date,'Open':open,'High':high,'Low':low,'Close':close,'Adj_close':adj_close,'Volume':volume}, ignore_index=True)\n",
      "C:\\Users\\Pratheekc\\AppData\\Local\\Temp\\ipykernel_16604\\3577119806.py:11: FutureWarning: The frame.append method is deprecated and will be removed from pandas in a future version. Use pandas.concat instead.\n",
      "  netflix_data = netflix_data.append({'Date':date,'Open':open,'High':high,'Low':low,'Close':close,'Adj_close':adj_close,'Volume':volume}, ignore_index=True)\n",
      "C:\\Users\\Pratheekc\\AppData\\Local\\Temp\\ipykernel_16604\\3577119806.py:11: FutureWarning: The frame.append method is deprecated and will be removed from pandas in a future version. Use pandas.concat instead.\n",
      "  netflix_data = netflix_data.append({'Date':date,'Open':open,'High':high,'Low':low,'Close':close,'Adj_close':adj_close,'Volume':volume}, ignore_index=True)\n",
      "C:\\Users\\Pratheekc\\AppData\\Local\\Temp\\ipykernel_16604\\3577119806.py:11: FutureWarning: The frame.append method is deprecated and will be removed from pandas in a future version. Use pandas.concat instead.\n",
      "  netflix_data = netflix_data.append({'Date':date,'Open':open,'High':high,'Low':low,'Close':close,'Adj_close':adj_close,'Volume':volume}, ignore_index=True)\n",
      "C:\\Users\\Pratheekc\\AppData\\Local\\Temp\\ipykernel_16604\\3577119806.py:11: FutureWarning: The frame.append method is deprecated and will be removed from pandas in a future version. Use pandas.concat instead.\n",
      "  netflix_data = netflix_data.append({'Date':date,'Open':open,'High':high,'Low':low,'Close':close,'Adj_close':adj_close,'Volume':volume}, ignore_index=True)\n",
      "C:\\Users\\Pratheekc\\AppData\\Local\\Temp\\ipykernel_16604\\3577119806.py:11: FutureWarning: The frame.append method is deprecated and will be removed from pandas in a future version. Use pandas.concat instead.\n",
      "  netflix_data = netflix_data.append({'Date':date,'Open':open,'High':high,'Low':low,'Close':close,'Adj_close':adj_close,'Volume':volume}, ignore_index=True)\n",
      "C:\\Users\\Pratheekc\\AppData\\Local\\Temp\\ipykernel_16604\\3577119806.py:11: FutureWarning: The frame.append method is deprecated and will be removed from pandas in a future version. Use pandas.concat instead.\n",
      "  netflix_data = netflix_data.append({'Date':date,'Open':open,'High':high,'Low':low,'Close':close,'Adj_close':adj_close,'Volume':volume}, ignore_index=True)\n",
      "C:\\Users\\Pratheekc\\AppData\\Local\\Temp\\ipykernel_16604\\3577119806.py:11: FutureWarning: The frame.append method is deprecated and will be removed from pandas in a future version. Use pandas.concat instead.\n",
      "  netflix_data = netflix_data.append({'Date':date,'Open':open,'High':high,'Low':low,'Close':close,'Adj_close':adj_close,'Volume':volume}, ignore_index=True)\n",
      "C:\\Users\\Pratheekc\\AppData\\Local\\Temp\\ipykernel_16604\\3577119806.py:11: FutureWarning: The frame.append method is deprecated and will be removed from pandas in a future version. Use pandas.concat instead.\n",
      "  netflix_data = netflix_data.append({'Date':date,'Open':open,'High':high,'Low':low,'Close':close,'Adj_close':adj_close,'Volume':volume}, ignore_index=True)\n",
      "C:\\Users\\Pratheekc\\AppData\\Local\\Temp\\ipykernel_16604\\3577119806.py:11: FutureWarning: The frame.append method is deprecated and will be removed from pandas in a future version. Use pandas.concat instead.\n",
      "  netflix_data = netflix_data.append({'Date':date,'Open':open,'High':high,'Low':low,'Close':close,'Adj_close':adj_close,'Volume':volume}, ignore_index=True)\n",
      "C:\\Users\\Pratheekc\\AppData\\Local\\Temp\\ipykernel_16604\\3577119806.py:11: FutureWarning: The frame.append method is deprecated and will be removed from pandas in a future version. Use pandas.concat instead.\n",
      "  netflix_data = netflix_data.append({'Date':date,'Open':open,'High':high,'Low':low,'Close':close,'Adj_close':adj_close,'Volume':volume}, ignore_index=True)\n",
      "C:\\Users\\Pratheekc\\AppData\\Local\\Temp\\ipykernel_16604\\3577119806.py:11: FutureWarning: The frame.append method is deprecated and will be removed from pandas in a future version. Use pandas.concat instead.\n",
      "  netflix_data = netflix_data.append({'Date':date,'Open':open,'High':high,'Low':low,'Close':close,'Adj_close':adj_close,'Volume':volume}, ignore_index=True)\n",
      "C:\\Users\\Pratheekc\\AppData\\Local\\Temp\\ipykernel_16604\\3577119806.py:11: FutureWarning: The frame.append method is deprecated and will be removed from pandas in a future version. Use pandas.concat instead.\n",
      "  netflix_data = netflix_data.append({'Date':date,'Open':open,'High':high,'Low':low,'Close':close,'Adj_close':adj_close,'Volume':volume}, ignore_index=True)\n",
      "C:\\Users\\Pratheekc\\AppData\\Local\\Temp\\ipykernel_16604\\3577119806.py:11: FutureWarning: The frame.append method is deprecated and will be removed from pandas in a future version. Use pandas.concat instead.\n",
      "  netflix_data = netflix_data.append({'Date':date,'Open':open,'High':high,'Low':low,'Close':close,'Adj_close':adj_close,'Volume':volume}, ignore_index=True)\n",
      "C:\\Users\\Pratheekc\\AppData\\Local\\Temp\\ipykernel_16604\\3577119806.py:11: FutureWarning: The frame.append method is deprecated and will be removed from pandas in a future version. Use pandas.concat instead.\n",
      "  netflix_data = netflix_data.append({'Date':date,'Open':open,'High':high,'Low':low,'Close':close,'Adj_close':adj_close,'Volume':volume}, ignore_index=True)\n",
      "C:\\Users\\Pratheekc\\AppData\\Local\\Temp\\ipykernel_16604\\3577119806.py:11: FutureWarning: The frame.append method is deprecated and will be removed from pandas in a future version. Use pandas.concat instead.\n",
      "  netflix_data = netflix_data.append({'Date':date,'Open':open,'High':high,'Low':low,'Close':close,'Adj_close':adj_close,'Volume':volume}, ignore_index=True)\n",
      "C:\\Users\\Pratheekc\\AppData\\Local\\Temp\\ipykernel_16604\\3577119806.py:11: FutureWarning: The frame.append method is deprecated and will be removed from pandas in a future version. Use pandas.concat instead.\n",
      "  netflix_data = netflix_data.append({'Date':date,'Open':open,'High':high,'Low':low,'Close':close,'Adj_close':adj_close,'Volume':volume}, ignore_index=True)\n",
      "C:\\Users\\Pratheekc\\AppData\\Local\\Temp\\ipykernel_16604\\3577119806.py:11: FutureWarning: The frame.append method is deprecated and will be removed from pandas in a future version. Use pandas.concat instead.\n",
      "  netflix_data = netflix_data.append({'Date':date,'Open':open,'High':high,'Low':low,'Close':close,'Adj_close':adj_close,'Volume':volume}, ignore_index=True)\n",
      "C:\\Users\\Pratheekc\\AppData\\Local\\Temp\\ipykernel_16604\\3577119806.py:11: FutureWarning: The frame.append method is deprecated and will be removed from pandas in a future version. Use pandas.concat instead.\n",
      "  netflix_data = netflix_data.append({'Date':date,'Open':open,'High':high,'Low':low,'Close':close,'Adj_close':adj_close,'Volume':volume}, ignore_index=True)\n",
      "C:\\Users\\Pratheekc\\AppData\\Local\\Temp\\ipykernel_16604\\3577119806.py:11: FutureWarning: The frame.append method is deprecated and will be removed from pandas in a future version. Use pandas.concat instead.\n",
      "  netflix_data = netflix_data.append({'Date':date,'Open':open,'High':high,'Low':low,'Close':close,'Adj_close':adj_close,'Volume':volume}, ignore_index=True)\n",
      "C:\\Users\\Pratheekc\\AppData\\Local\\Temp\\ipykernel_16604\\3577119806.py:11: FutureWarning: The frame.append method is deprecated and will be removed from pandas in a future version. Use pandas.concat instead.\n",
      "  netflix_data = netflix_data.append({'Date':date,'Open':open,'High':high,'Low':low,'Close':close,'Adj_close':adj_close,'Volume':volume}, ignore_index=True)\n",
      "C:\\Users\\Pratheekc\\AppData\\Local\\Temp\\ipykernel_16604\\3577119806.py:11: FutureWarning: The frame.append method is deprecated and will be removed from pandas in a future version. Use pandas.concat instead.\n",
      "  netflix_data = netflix_data.append({'Date':date,'Open':open,'High':high,'Low':low,'Close':close,'Adj_close':adj_close,'Volume':volume}, ignore_index=True)\n",
      "C:\\Users\\Pratheekc\\AppData\\Local\\Temp\\ipykernel_16604\\3577119806.py:11: FutureWarning: The frame.append method is deprecated and will be removed from pandas in a future version. Use pandas.concat instead.\n",
      "  netflix_data = netflix_data.append({'Date':date,'Open':open,'High':high,'Low':low,'Close':close,'Adj_close':adj_close,'Volume':volume}, ignore_index=True)\n",
      "C:\\Users\\Pratheekc\\AppData\\Local\\Temp\\ipykernel_16604\\3577119806.py:11: FutureWarning: The frame.append method is deprecated and will be removed from pandas in a future version. Use pandas.concat instead.\n",
      "  netflix_data = netflix_data.append({'Date':date,'Open':open,'High':high,'Low':low,'Close':close,'Adj_close':adj_close,'Volume':volume}, ignore_index=True)\n"
     ]
    }
   ],
   "source": []
  },
  {
   "cell_type": "code",
   "execution_count": 10,
   "metadata": {},
   "outputs": [
    {
     "data": {
      "text/html": [
       "<div>\n",
       "<style scoped>\n",
       "    .dataframe tbody tr th:only-of-type {\n",
       "        vertical-align: middle;\n",
       "    }\n",
       "\n",
       "    .dataframe tbody tr th {\n",
       "        vertical-align: top;\n",
       "    }\n",
       "\n",
       "    .dataframe thead th {\n",
       "        text-align: right;\n",
       "    }\n",
       "</style>\n",
       "<table border=\"1\" class=\"dataframe\">\n",
       "  <thead>\n",
       "    <tr style=\"text-align: right;\">\n",
       "      <th></th>\n",
       "      <th>Date</th>\n",
       "      <th>Open</th>\n",
       "      <th>High</th>\n",
       "      <th>Low</th>\n",
       "      <th>Close</th>\n",
       "      <th>Volume</th>\n",
       "      <th>Adj_close</th>\n",
       "    </tr>\n",
       "  </thead>\n",
       "  <tbody>\n",
       "    <tr>\n",
       "      <th>0</th>\n",
       "      <td>Jun 01, 2021</td>\n",
       "      <td>504.01</td>\n",
       "      <td>536.13</td>\n",
       "      <td>482.14</td>\n",
       "      <td>528.21</td>\n",
       "      <td>78,560,600</td>\n",
       "      <td>528.21</td>\n",
       "    </tr>\n",
       "    <tr>\n",
       "      <th>1</th>\n",
       "      <td>May 01, 2021</td>\n",
       "      <td>512.65</td>\n",
       "      <td>518.95</td>\n",
       "      <td>478.54</td>\n",
       "      <td>502.81</td>\n",
       "      <td>66,927,600</td>\n",
       "      <td>502.81</td>\n",
       "    </tr>\n",
       "    <tr>\n",
       "      <th>2</th>\n",
       "      <td>Apr 01, 2021</td>\n",
       "      <td>529.93</td>\n",
       "      <td>563.56</td>\n",
       "      <td>499.00</td>\n",
       "      <td>513.47</td>\n",
       "      <td>111,573,300</td>\n",
       "      <td>513.47</td>\n",
       "    </tr>\n",
       "    <tr>\n",
       "      <th>3</th>\n",
       "      <td>Mar 01, 2021</td>\n",
       "      <td>545.57</td>\n",
       "      <td>556.99</td>\n",
       "      <td>492.85</td>\n",
       "      <td>521.66</td>\n",
       "      <td>90,183,900</td>\n",
       "      <td>521.66</td>\n",
       "    </tr>\n",
       "    <tr>\n",
       "      <th>4</th>\n",
       "      <td>Feb 01, 2021</td>\n",
       "      <td>536.79</td>\n",
       "      <td>566.65</td>\n",
       "      <td>518.28</td>\n",
       "      <td>538.85</td>\n",
       "      <td>61,902,300</td>\n",
       "      <td>538.85</td>\n",
       "    </tr>\n",
       "  </tbody>\n",
       "</table>\n",
       "</div>"
      ],
      "text/plain": [
       "           Date    Open    High     Low   Close       Volume Adj_close\n",
       "0  Jun 01, 2021  504.01  536.13  482.14  528.21   78,560,600    528.21\n",
       "1  May 01, 2021  512.65  518.95  478.54  502.81   66,927,600    502.81\n",
       "2  Apr 01, 2021  529.93  563.56  499.00  513.47  111,573,300    513.47\n",
       "3  Mar 01, 2021  545.57  556.99  492.85  521.66   90,183,900    521.66\n",
       "4  Feb 01, 2021  536.79  566.65  518.28  538.85   61,902,300    538.85"
      ]
     },
     "execution_count": 10,
     "metadata": {},
     "output_type": "execute_result"
    }
   ],
   "source": [
    "netflix_data.head()"
   ]
  },
  {
   "cell_type": "code",
   "execution_count": 11,
   "metadata": {},
   "outputs": [],
   "source": [
    "read_html_pandas_daa = pd.read_html(url)"
   ]
  },
  {
   "cell_type": "code",
   "execution_count": 12,
   "metadata": {},
   "outputs": [],
   "source": [
    "read_html_pandas_daa = pd.read_html(str(soup))"
   ]
  },
  {
   "cell_type": "code",
   "execution_count": 13,
   "metadata": {},
   "outputs": [
    {
     "data": {
      "text/html": [
       "<div>\n",
       "<style scoped>\n",
       "    .dataframe tbody tr th:only-of-type {\n",
       "        vertical-align: middle;\n",
       "    }\n",
       "\n",
       "    .dataframe tbody tr th {\n",
       "        vertical-align: top;\n",
       "    }\n",
       "\n",
       "    .dataframe thead th {\n",
       "        text-align: right;\n",
       "    }\n",
       "</style>\n",
       "<table border=\"1\" class=\"dataframe\">\n",
       "  <thead>\n",
       "    <tr style=\"text-align: right;\">\n",
       "      <th></th>\n",
       "      <th>Date</th>\n",
       "      <th>Open</th>\n",
       "      <th>High</th>\n",
       "      <th>Low</th>\n",
       "      <th>Close*</th>\n",
       "      <th>Adj Close**</th>\n",
       "      <th>Volume</th>\n",
       "    </tr>\n",
       "  </thead>\n",
       "  <tbody>\n",
       "    <tr>\n",
       "      <th>0</th>\n",
       "      <td>Jun 01, 2021</td>\n",
       "      <td>504.01</td>\n",
       "      <td>536.13</td>\n",
       "      <td>482.14</td>\n",
       "      <td>528.21</td>\n",
       "      <td>528.21</td>\n",
       "      <td>78560600</td>\n",
       "    </tr>\n",
       "    <tr>\n",
       "      <th>1</th>\n",
       "      <td>May 01, 2021</td>\n",
       "      <td>512.65</td>\n",
       "      <td>518.95</td>\n",
       "      <td>478.54</td>\n",
       "      <td>502.81</td>\n",
       "      <td>502.81</td>\n",
       "      <td>66927600</td>\n",
       "    </tr>\n",
       "    <tr>\n",
       "      <th>2</th>\n",
       "      <td>Apr 01, 2021</td>\n",
       "      <td>529.93</td>\n",
       "      <td>563.56</td>\n",
       "      <td>499.00</td>\n",
       "      <td>513.47</td>\n",
       "      <td>513.47</td>\n",
       "      <td>111573300</td>\n",
       "    </tr>\n",
       "    <tr>\n",
       "      <th>3</th>\n",
       "      <td>Mar 01, 2021</td>\n",
       "      <td>545.57</td>\n",
       "      <td>556.99</td>\n",
       "      <td>492.85</td>\n",
       "      <td>521.66</td>\n",
       "      <td>521.66</td>\n",
       "      <td>90183900</td>\n",
       "    </tr>\n",
       "    <tr>\n",
       "      <th>4</th>\n",
       "      <td>Feb 01, 2021</td>\n",
       "      <td>536.79</td>\n",
       "      <td>566.65</td>\n",
       "      <td>518.28</td>\n",
       "      <td>538.85</td>\n",
       "      <td>538.85</td>\n",
       "      <td>61902300</td>\n",
       "    </tr>\n",
       "  </tbody>\n",
       "</table>\n",
       "</div>"
      ],
      "text/plain": [
       "           Date    Open    High     Low  Close* Adj Close**     Volume\n",
       "0  Jun 01, 2021  504.01  536.13  482.14  528.21      528.21   78560600\n",
       "1  May 01, 2021  512.65  518.95  478.54  502.81      502.81   66927600\n",
       "2  Apr 01, 2021  529.93  563.56  499.00  513.47      513.47  111573300\n",
       "3  Mar 01, 2021  545.57  556.99  492.85  521.66      521.66   90183900\n",
       "4  Feb 01, 2021  536.79  566.65  518.28  538.85      538.85   61902300"
      ]
     },
     "execution_count": 13,
     "metadata": {},
     "output_type": "execute_result"
    }
   ],
   "source": [
    "netflix_dataframe = read_html_pandas_daa[0]\n",
    "netflix_dataframe.head()"
   ]
  },
  {
   "cell_type": "code",
   "execution_count": 18,
   "metadata": {},
   "outputs": [
    {
     "ename": "TypeError",
     "evalue": "no numeric data to plot",
     "output_type": "error",
     "traceback": [
      "\u001b[1;31m---------------------------------------------------------------------------\u001b[0m",
      "\u001b[1;31mTypeError\u001b[0m                                 Traceback (most recent call last)",
      "\u001b[1;32mc:\\Users\\Pratheekc\\python\\stock.ipynb Cell 34\u001b[0m in \u001b[0;36m<cell line: 1>\u001b[1;34m()\u001b[0m\n\u001b[1;32m----> <a href='vscode-notebook-cell:/c%3A/Users/Pratheekc/python/stock.ipynb#X45sZmlsZQ%3D%3D?line=0'>1</a>\u001b[0m netflix_dataframe\u001b[39m.\u001b[39;49mplot(x\u001b[39m=\u001b[39;49m\u001b[39m\"\u001b[39;49m\u001b[39mDate\u001b[39;49m\u001b[39m\"\u001b[39;49m,y\u001b[39m=\u001b[39;49m\u001b[39m\"\u001b[39;49m\u001b[39mOpen\u001b[39;49m\u001b[39m\"\u001b[39;49m)\n",
      "File \u001b[1;32mc:\\Users\\Pratheekc\\AppData\\Local\\Programs\\Python\\Python310\\lib\\site-packages\\pandas\\plotting\\_core.py:972\u001b[0m, in \u001b[0;36mPlotAccessor.__call__\u001b[1;34m(self, *args, **kwargs)\u001b[0m\n\u001b[0;32m    969\u001b[0m             label_name \u001b[39m=\u001b[39m label_kw \u001b[39mor\u001b[39;00m data\u001b[39m.\u001b[39mcolumns\n\u001b[0;32m    970\u001b[0m             data\u001b[39m.\u001b[39mcolumns \u001b[39m=\u001b[39m label_name\n\u001b[1;32m--> 972\u001b[0m \u001b[39mreturn\u001b[39;00m plot_backend\u001b[39m.\u001b[39mplot(data, kind\u001b[39m=\u001b[39mkind, \u001b[39m*\u001b[39m\u001b[39m*\u001b[39mkwargs)\n",
      "File \u001b[1;32mc:\\Users\\Pratheekc\\AppData\\Local\\Programs\\Python\\Python310\\lib\\site-packages\\pandas\\plotting\\_matplotlib\\__init__.py:71\u001b[0m, in \u001b[0;36mplot\u001b[1;34m(data, kind, **kwargs)\u001b[0m\n\u001b[0;32m     69\u001b[0m         kwargs[\u001b[39m\"\u001b[39m\u001b[39max\u001b[39m\u001b[39m\"\u001b[39m] \u001b[39m=\u001b[39m \u001b[39mgetattr\u001b[39m(ax, \u001b[39m\"\u001b[39m\u001b[39mleft_ax\u001b[39m\u001b[39m\"\u001b[39m, ax)\n\u001b[0;32m     70\u001b[0m plot_obj \u001b[39m=\u001b[39m PLOT_CLASSES[kind](data, \u001b[39m*\u001b[39m\u001b[39m*\u001b[39mkwargs)\n\u001b[1;32m---> 71\u001b[0m plot_obj\u001b[39m.\u001b[39;49mgenerate()\n\u001b[0;32m     72\u001b[0m plot_obj\u001b[39m.\u001b[39mdraw()\n\u001b[0;32m     73\u001b[0m \u001b[39mreturn\u001b[39;00m plot_obj\u001b[39m.\u001b[39mresult\n",
      "File \u001b[1;32mc:\\Users\\Pratheekc\\AppData\\Local\\Programs\\Python\\Python310\\lib\\site-packages\\pandas\\plotting\\_matplotlib\\core.py:327\u001b[0m, in \u001b[0;36mMPLPlot.generate\u001b[1;34m(self)\u001b[0m\n\u001b[0;32m    325\u001b[0m \u001b[39mdef\u001b[39;00m \u001b[39mgenerate\u001b[39m(\u001b[39mself\u001b[39m):\n\u001b[0;32m    326\u001b[0m     \u001b[39mself\u001b[39m\u001b[39m.\u001b[39m_args_adjust()\n\u001b[1;32m--> 327\u001b[0m     \u001b[39mself\u001b[39;49m\u001b[39m.\u001b[39;49m_compute_plot_data()\n\u001b[0;32m    328\u001b[0m     \u001b[39mself\u001b[39m\u001b[39m.\u001b[39m_setup_subplots()\n\u001b[0;32m    329\u001b[0m     \u001b[39mself\u001b[39m\u001b[39m.\u001b[39m_make_plot()\n",
      "File \u001b[1;32mc:\\Users\\Pratheekc\\AppData\\Local\\Programs\\Python\\Python310\\lib\\site-packages\\pandas\\plotting\\_matplotlib\\core.py:506\u001b[0m, in \u001b[0;36mMPLPlot._compute_plot_data\u001b[1;34m(self)\u001b[0m\n\u001b[0;32m    504\u001b[0m \u001b[39m# no non-numeric frames or series allowed\u001b[39;00m\n\u001b[0;32m    505\u001b[0m \u001b[39mif\u001b[39;00m is_empty:\n\u001b[1;32m--> 506\u001b[0m     \u001b[39mraise\u001b[39;00m \u001b[39mTypeError\u001b[39;00m(\u001b[39m\"\u001b[39m\u001b[39mno numeric data to plot\u001b[39m\u001b[39m\"\u001b[39m)\n\u001b[0;32m    508\u001b[0m \u001b[39mself\u001b[39m\u001b[39m.\u001b[39mdata \u001b[39m=\u001b[39m numeric_data\u001b[39m.\u001b[39mapply(\u001b[39mself\u001b[39m\u001b[39m.\u001b[39m_convert_to_ndarray)\n",
      "\u001b[1;31mTypeError\u001b[0m: no numeric data to plot"
     ]
    }
   ],
   "source": [
    "netflix_dataframe.plot(x=\"Date\",y=\"Open\")"
   ]
  },
  {
   "cell_type": "code",
   "execution_count": null,
   "metadata": {},
   "outputs": [],
   "source": []
  }
 ],
 "metadata": {
  "kernelspec": {
   "display_name": "Python 3.10.4 64-bit",
   "language": "python",
   "name": "python3"
  },
  "language_info": {
   "codemirror_mode": {
    "name": "ipython",
    "version": 3
   },
   "file_extension": ".py",
   "mimetype": "text/x-python",
   "name": "python",
   "nbconvert_exporter": "python",
   "pygments_lexer": "ipython3",
   "version": "3.10.4"
  },
  "orig_nbformat": 4,
  "vscode": {
   "interpreter": {
    "hash": "cdecf57eb0be97ef8ab32aff96288568e8bd9603715509aaeaecdc9f0e314f62"
   }
  }
 },
 "nbformat": 4,
 "nbformat_minor": 2
}
